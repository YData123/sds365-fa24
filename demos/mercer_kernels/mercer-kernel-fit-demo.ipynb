{
 "cells": [
  {
   "cell_type": "markdown",
   "metadata": {},
   "source": [
    "## Demo for Mercer kernels: SGD\n",
    "\n",
    "This notebook illustrates the functions defined in terms of an RKHS (Reproducing Kernel Hilbert Space). For assignment 1, we will ask you to implement Mercer kernel regression.\n",
    "The code here can serve as a starting point for this.\n",
    "\n",
    "We display random functions of the form $f(x) = \\sum_{i=1}^n \\alpha_i K(x,X_i)$, where \n",
    "$K$ is a Gaussian kernel, and the $\\alpha_i$ are just random normal random variables. Notice that while Mercer kernel regression works in terms of penalization, the bandwidth parameter in $K$ also affects the smoothness of the functions.\n",
    "\n",
    "We then show the process of fitting to data using stochastic gradient descent (SGD).\n"
   ]
  },
  {
   "cell_type": "code",
   "execution_count": 2,
   "metadata": {},
   "outputs": [],
   "source": [
    "import numpy as np\n",
    "import matplotlib.pyplot as plt\n",
    "%matplotlib inline\n",
    "from IPython.display import clear_output\n",
    "from time import sleep\n"
   ]
  },
  {
   "cell_type": "code",
   "execution_count": 3,
   "metadata": {},
   "outputs": [],
   "source": [
    "def triangular(u, h):\n",
    "    return (1-np.abs(u)/h)*np.array(np.fabs(u)/h < 1)\n",
    "\n",
    "def gaussian(u, h):\n",
    "    return np.exp(-(u)**2/(2*h**2))\n",
    "\n",
    "def compute_gram_matrix(X, kernel):\n",
    "    n = len(X)\n",
    "    K = np.zeros(n*n).reshape(n, n)\n",
    "    for j in np.arange(n):\n",
    "        K[:,j] = kernel(X - X[j], 1)\n",
    "    return K\n"
   ]
  },
  {
   "cell_type": "code",
   "execution_count": 4,
   "metadata": {},
   "outputs": [],
   "source": [
    "def mercer_kernel_function(X, x, alpha, kernel, h=.3):\n",
    "    # Compute the function values on x\n",
    "    K = np.zeros(len(x)*len(X)).reshape(len(x), len(X))\n",
    "    for j in np.arange(K.shape[1]):\n",
    "        K[:,j] = kernel(x - X[j], h)\n",
    "    f = K @ alpha\n",
    "    return f\n",
    "\n",
    "def plot_function_and_data(x, f, X, y, t, sleeptime=.01):\n",
    "    clear_output(wait=True)\n",
    "    plt.figure(figsize=(10,6))\n",
    "    plt.scatter(X, y, color='red')\n",
    "    plt.plot(x, f, color='gray', linewidth=2, label='true function')\n",
    "    plt.title('step=%d' % t)\n",
    "    plt.show()\n",
    "    sleep(sleeptime)\n",
    "    \n"
   ]
  },
  {
   "cell_type": "code",
   "execution_count": 6,
   "metadata": {
    "scrolled": true
   },
   "outputs": [
    {
     "data": {
      "image/png": "[encoded data removed]",
      "text/plain": [
       "<Figure size 720x432 with 1 Axes>"
      ]
     },
     "metadata": {
      "needs_background": "light"
     },
     "output_type": "display_data"
    }
   ],
   "source": [
    "min_x, max_x = -1, 1\n",
    "x = np.linspace(min_x, max_x, 1000)\n",
    "\n",
    "h = .05\n",
    "n = 5\n",
    "alpha = np.random.normal(size=n)\n",
    "np.random.seed(42)\n",
    "X = np.sort(np.random.uniform(low=min_x, high=max_x, size=n))\n",
    "y = X*X\n",
    "\n",
    "kernel = gaussian\n",
    "K = np.zeros(len(X)*len(X)).reshape(len(X), len(X))\n",
    "for j in np.arange(K.shape[1]):\n",
    "    K[:,j] = kernel(X - X[j], h)\n",
    "\n",
    "lam = .01\n",
    "f = mercer_kernel_function(X, x, alpha, kernel=kernel, h=h)\n",
    "plot_function_and_data(x, f, X, y, t=0, sleeptime=5)\n",
    "\n",
    "stepsize = 0.05\n",
    "for step in range(101):\n",
    "    f = mercer_kernel_function(X, x, alpha, kernel=kernel, h=h)\n",
    "    if step % 10 == 0:\n",
    "        plot_function_and_data(x, f, X, y, t=step, sleeptime=.5)\n",
    "    alpha = alpha + stepsize * (K.T @ (y - K @ alpha) - lam * K @ alpha)\n"
   ]
  }
 ],
 "metadata": {
  "kernelspec": {
   "display_name": "Python 3.8.10 ('iML')",
   "language": "python",
   "name": "python3"
  },
  "language_info": {
   "codemirror_mode": {
    "name": "ipython",
    "version": 3
   },
   "file_extension": ".py",
   "mimetype": "text/x-python",
   "name": "python",
   "nbconvert_exporter": "python",
   "pygments_lexer": "ipython3",
   "version": "3.8.10"
  },
  "vscode": {
   "interpreter": {
    "hash": "7c314b086ff89c7586b92ce25796ee5b84a63642532a692f968754844209d656"
   }
  }
 },
 "nbformat": 4,
 "nbformat_minor": 4
}
