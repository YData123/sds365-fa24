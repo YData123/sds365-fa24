{
 "cells": [
  {
   "cell_type": "markdown",
   "metadata": {},
   "source": [
    "## Large language models: GPT-4\n",
    "\n",
    "In this notebook we illustrate the Python interface to OpenAI's API. To run this for yourself, you need to register and obtain an [API key](https://beta.openai.com/account/api-keys). \n",
    "You can then try out a range of [different models](https://beta.openai.com/docs/engines/gpt-4):\n",
    "\n",
    "<img src=\"https://raw.githubusercontent.com/YData123/sds365-fa23/main/demos/gpt-4/overview1.png\" style=\"width:600px\">\n"
   ]
  },
  {
   "cell_type": "code",
   "execution_count": 1,
   "metadata": {},
   "outputs": [],
   "source": [
    "import numpy as np\n",
    "import os\n",
    "#!pip install openai\n",
    "import openai\n",
    "openai.api_key = os.getenv(\"OPENAI_API_KEY\")"
   ]
  },
  {
   "cell_type": "code",
   "execution_count": 2,
   "metadata": {},
   "outputs": [],
   "source": [
    "def gpt4(prompt, engine=\"gpt-4\", temp=0.9):\n",
    "    completion = openai.chat.completions.create(\n",
    "       model=engine,\n",
    "       temperature=temp,\n",
    "       max_tokens=1000,\n",
    "       top_p=1,\n",
    "       messages=[{\"role\": \"user\", \"content\": \"%s\" % prompt},],\n",
    "    )\n",
    "    return completion.choices[0].message.content\n"
   ]
  },
  {
   "cell_type": "code",
   "execution_count": 3,
   "metadata": {
    "scrolled": true
   },
   "outputs": [
    {
     "name": "stdout",
     "output_type": "stream",
     "text": [
      "As an artificial intelligence, I don't have personal experiences or emotions like a human. But I was developed by OpenAI and trained to process and generate human-like text based on the input I receive. My main function is to assist users in finding information, answering questions, and accomplishing tasks.\n"
     ]
    }
   ],
   "source": [
    "response = gpt4(\"Tell me about yourself!\")\n",
    "print(response)\n"
   ]
  }
 ],
 "metadata": {
  "interpreter": {
   "hash": "075427e9d7b4e88d8be5fc9c4269e9099fc3e822a226ecef7da6e611953d0392"
  },
  "kernelspec": {
   "display_name": "Python 3",
   "language": "python",
   "name": "python3"
  },
  "language_info": {
   "codemirror_mode": {
    "name": "ipython",
    "version": 3
   },
   "file_extension": ".py",
   "mimetype": "text/x-python",
   "name": "python",
   "nbconvert_exporter": "python",
   "pygments_lexer": "ipython3",
   "version": "3.8.5"
  }
 },
 "nbformat": 4,
 "nbformat_minor": 4
}
